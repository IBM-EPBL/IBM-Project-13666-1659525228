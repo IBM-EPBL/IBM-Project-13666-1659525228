{
 "cells": [
  {
   "cell_type": "code",
   "execution_count": 1,
   "metadata": {
    "executionInfo": {
     "elapsed": 10,
     "status": "ok",
     "timestamp": 1668604917331,
     "user": {
      "displayName": "Mukund Balaji",
      "userId": "01932380434259877239"
     },
     "user_tz": -330
    },
    "id": "MRDz1mhf7vvB"
   },
   "outputs": [],
   "source": [
    "import numpy as np\n",
    "import pandas as pd\n",
    "import pickle\n",
    "import sklearn"
   ]
  },
  {
   "cell_type": "code",
   "execution_count": 2,
   "metadata": {
    "colab": {
     "base_uri": "https://localhost:8080/",
     "height": 36
    },
    "executionInfo": {
     "elapsed": 16,
     "status": "ok",
     "timestamp": 1668489532551,
     "user": {
      "displayName": "Mukund Balaji",
      "userId": "01932380434259877239"
     },
     "user_tz": -330
    },
    "id": "jg8q4R4FtpEv",
    "outputId": "d2f64d18-4eb0-40fe-c293-78bd6fe8c6f6"
   },
   "outputs": [
    {
     "data": {
      "text/plain": [
       "'1.0.2'"
      ]
     },
     "execution_count": 2,
     "metadata": {},
     "output_type": "execute_result"
    }
   ],
   "source": [
    "sklearn.__version__"
   ]
  },
  {
   "cell_type": "code",
   "execution_count": 8,
   "metadata": {
    "colab": {
     "base_uri": "https://localhost:8080/",
     "height": 305
    },
    "executionInfo": {
     "elapsed": 21332,
     "status": "ok",
     "timestamp": 1668604949684,
     "user": {
      "displayName": "Mukund Balaji",
      "userId": "01932380434259877239"
     },
     "user_tz": -330
    },
    "id": "0fWYu5FoarQZ",
    "outputId": "69209bda-ef4e-4add-f567-251dfc9954ec"
   },
   "outputs": [
    {
     "data": {
      "text/html": [
       "<div>\n",
       "<style scoped>\n",
       "    .dataframe tbody tr th:only-of-type {\n",
       "        vertical-align: middle;\n",
       "    }\n",
       "\n",
       "    .dataframe tbody tr th {\n",
       "        vertical-align: top;\n",
       "    }\n",
       "\n",
       "    .dataframe thead th {\n",
       "        text-align: right;\n",
       "    }\n",
       "</style>\n",
       "<table border=\"1\" class=\"dataframe\">\n",
       "  <thead>\n",
       "    <tr style=\"text-align: right;\">\n",
       "      <th></th>\n",
       "      <th>Unnamed: 0</th>\n",
       "      <th>seller</th>\n",
       "      <th>offerType</th>\n",
       "      <th>price</th>\n",
       "      <th>vehicleType</th>\n",
       "      <th>yearOfRegistration</th>\n",
       "      <th>gearbox</th>\n",
       "      <th>powerPS</th>\n",
       "      <th>model</th>\n",
       "      <th>kilometer</th>\n",
       "      <th>monthOfRegistration</th>\n",
       "      <th>fuelType</th>\n",
       "      <th>brand</th>\n",
       "      <th>notRepairedDamage</th>\n",
       "    </tr>\n",
       "  </thead>\n",
       "  <tbody>\n",
       "    <tr>\n",
       "      <th>0</th>\n",
       "      <td>1</td>\n",
       "      <td>privat</td>\n",
       "      <td>Angebot</td>\n",
       "      <td>18300.0</td>\n",
       "      <td>coupe</td>\n",
       "      <td>2011.0</td>\n",
       "      <td>manual</td>\n",
       "      <td>190.0</td>\n",
       "      <td>NaN</td>\n",
       "      <td>125000.0</td>\n",
       "      <td>5.0</td>\n",
       "      <td>diesel</td>\n",
       "      <td>audi</td>\n",
       "      <td>Yes</td>\n",
       "    </tr>\n",
       "    <tr>\n",
       "      <th>1</th>\n",
       "      <td>2</td>\n",
       "      <td>privat</td>\n",
       "      <td>Angebot</td>\n",
       "      <td>9800.0</td>\n",
       "      <td>suv</td>\n",
       "      <td>2004.0</td>\n",
       "      <td>automatic</td>\n",
       "      <td>163.0</td>\n",
       "      <td>grand</td>\n",
       "      <td>125000.0</td>\n",
       "      <td>8.0</td>\n",
       "      <td>diesel</td>\n",
       "      <td>jeep</td>\n",
       "      <td>not-declared</td>\n",
       "    </tr>\n",
       "    <tr>\n",
       "      <th>2</th>\n",
       "      <td>3</td>\n",
       "      <td>privat</td>\n",
       "      <td>Angebot</td>\n",
       "      <td>1500.0</td>\n",
       "      <td>small</td>\n",
       "      <td>2001.0</td>\n",
       "      <td>manual</td>\n",
       "      <td>75.0</td>\n",
       "      <td>golf</td>\n",
       "      <td>150000.0</td>\n",
       "      <td>6.0</td>\n",
       "      <td>petrol</td>\n",
       "      <td>volkswagen</td>\n",
       "      <td>No</td>\n",
       "    </tr>\n",
       "    <tr>\n",
       "      <th>3</th>\n",
       "      <td>4</td>\n",
       "      <td>privat</td>\n",
       "      <td>Angebot</td>\n",
       "      <td>3600.0</td>\n",
       "      <td>small</td>\n",
       "      <td>2008.0</td>\n",
       "      <td>manual</td>\n",
       "      <td>69.0</td>\n",
       "      <td>fabia</td>\n",
       "      <td>90000.0</td>\n",
       "      <td>7.0</td>\n",
       "      <td>diesel</td>\n",
       "      <td>skoda</td>\n",
       "      <td>No</td>\n",
       "    </tr>\n",
       "    <tr>\n",
       "      <th>4</th>\n",
       "      <td>5</td>\n",
       "      <td>privat</td>\n",
       "      <td>Angebot</td>\n",
       "      <td>650.0</td>\n",
       "      <td>limousine</td>\n",
       "      <td>1995.0</td>\n",
       "      <td>manual</td>\n",
       "      <td>102.0</td>\n",
       "      <td>3er</td>\n",
       "      <td>150000.0</td>\n",
       "      <td>10.0</td>\n",
       "      <td>petrol</td>\n",
       "      <td>bmw</td>\n",
       "      <td>Yes</td>\n",
       "    </tr>\n",
       "  </tbody>\n",
       "</table>\n",
       "</div>"
      ],
      "text/plain": [
       "   Unnamed: 0  seller offerType    price vehicleType  yearOfRegistration  \\\n",
       "0           1  privat   Angebot  18300.0       coupe              2011.0   \n",
       "1           2  privat   Angebot   9800.0         suv              2004.0   \n",
       "2           3  privat   Angebot   1500.0       small              2001.0   \n",
       "3           4  privat   Angebot   3600.0       small              2008.0   \n",
       "4           5  privat   Angebot    650.0   limousine              1995.0   \n",
       "\n",
       "     gearbox  powerPS  model  kilometer  monthOfRegistration fuelType  \\\n",
       "0     manual    190.0    NaN   125000.0                  5.0   diesel   \n",
       "1  automatic    163.0  grand   125000.0                  8.0   diesel   \n",
       "2     manual     75.0   golf   150000.0                  6.0   petrol   \n",
       "3     manual     69.0  fabia    90000.0                  7.0   diesel   \n",
       "4     manual    102.0    3er   150000.0                 10.0   petrol   \n",
       "\n",
       "        brand notRepairedDamage  \n",
       "0        audi               Yes  \n",
       "1        jeep      not-declared  \n",
       "2  volkswagen                No  \n",
       "3       skoda                No  \n",
       "4         bmw               Yes  "
      ]
     },
     "execution_count": 8,
     "metadata": {},
     "output_type": "execute_result"
    }
   ],
   "source": [
    "df=pd.read_csv(r\"C:\\Users\\cyber\\OneDrive\\Desktop\\autos_preprocessed.csv\")\n",
    "df.head()"
   ]
  },
  {
   "cell_type": "code",
   "execution_count": 9,
   "metadata": {
    "executionInfo": {
     "elapsed": 367,
     "status": "ok",
     "timestamp": 1668604973770,
     "user": {
      "displayName": "Mukund Balaji",
      "userId": "01932380434259877239"
     },
     "user_tz": -330
    },
    "id": "UO3mjFsAEG5S"
   },
   "outputs": [],
   "source": [
    "import datetime\n",
    "current=datetime.datetime.now().year\n",
    "currentm=datetime.datetime.now().month"
   ]
  },
  {
   "cell_type": "code",
   "execution_count": 10,
   "metadata": {
    "executionInfo": {
     "elapsed": 2,
     "status": "ok",
     "timestamp": 1668604975481,
     "user": {
      "displayName": "Mukund Balaji",
      "userId": "01932380434259877239"
     },
     "user_tz": -330
    },
    "id": "LzkRL9I79Thb"
   },
   "outputs": [],
   "source": [
    "df['Age']=(current-df['yearOfRegistration'])*12+(currentm-df['monthOfRegistration'])"
   ]
  },
  {
   "cell_type": "code",
   "execution_count": 11,
   "metadata": {
    "colab": {
     "base_uri": "https://localhost:8080/",
     "height": 206
    },
    "executionInfo": {
     "elapsed": 24,
     "status": "ok",
     "timestamp": 1668259655624,
     "user": {
      "displayName": "Mukund Balaji",
      "userId": "01932380434259877239"
     },
     "user_tz": -330
    },
    "id": "tJMsdcM7EpwF",
    "outputId": "8c02d832-e4c5-47b3-bac0-351ed02fe749"
   },
   "outputs": [
    {
     "data": {
      "text/html": [
       "<div>\n",
       "<style scoped>\n",
       "    .dataframe tbody tr th:only-of-type {\n",
       "        vertical-align: middle;\n",
       "    }\n",
       "\n",
       "    .dataframe tbody tr th {\n",
       "        vertical-align: top;\n",
       "    }\n",
       "\n",
       "    .dataframe thead th {\n",
       "        text-align: right;\n",
       "    }\n",
       "</style>\n",
       "<table border=\"1\" class=\"dataframe\">\n",
       "  <thead>\n",
       "    <tr style=\"text-align: right;\">\n",
       "      <th></th>\n",
       "      <th>Unnamed: 0</th>\n",
       "      <th>seller</th>\n",
       "      <th>offerType</th>\n",
       "      <th>price</th>\n",
       "      <th>vehicleType</th>\n",
       "      <th>yearOfRegistration</th>\n",
       "      <th>gearbox</th>\n",
       "      <th>powerPS</th>\n",
       "      <th>model</th>\n",
       "      <th>kilometer</th>\n",
       "      <th>monthOfRegistration</th>\n",
       "      <th>fuelType</th>\n",
       "      <th>brand</th>\n",
       "      <th>notRepairedDamage</th>\n",
       "      <th>Age</th>\n",
       "    </tr>\n",
       "  </thead>\n",
       "  <tbody>\n",
       "    <tr>\n",
       "      <th>0</th>\n",
       "      <td>1</td>\n",
       "      <td>privat</td>\n",
       "      <td>Angebot</td>\n",
       "      <td>18300.0</td>\n",
       "      <td>coupe</td>\n",
       "      <td>2011.0</td>\n",
       "      <td>manual</td>\n",
       "      <td>190.0</td>\n",
       "      <td>NaN</td>\n",
       "      <td>125000.0</td>\n",
       "      <td>5.0</td>\n",
       "      <td>diesel</td>\n",
       "      <td>audi</td>\n",
       "      <td>Yes</td>\n",
       "      <td>138.0</td>\n",
       "    </tr>\n",
       "    <tr>\n",
       "      <th>1</th>\n",
       "      <td>2</td>\n",
       "      <td>privat</td>\n",
       "      <td>Angebot</td>\n",
       "      <td>9800.0</td>\n",
       "      <td>suv</td>\n",
       "      <td>2004.0</td>\n",
       "      <td>automatic</td>\n",
       "      <td>163.0</td>\n",
       "      <td>grand</td>\n",
       "      <td>125000.0</td>\n",
       "      <td>8.0</td>\n",
       "      <td>diesel</td>\n",
       "      <td>jeep</td>\n",
       "      <td>not-declared</td>\n",
       "      <td>219.0</td>\n",
       "    </tr>\n",
       "    <tr>\n",
       "      <th>2</th>\n",
       "      <td>3</td>\n",
       "      <td>privat</td>\n",
       "      <td>Angebot</td>\n",
       "      <td>1500.0</td>\n",
       "      <td>small</td>\n",
       "      <td>2001.0</td>\n",
       "      <td>manual</td>\n",
       "      <td>75.0</td>\n",
       "      <td>golf</td>\n",
       "      <td>150000.0</td>\n",
       "      <td>6.0</td>\n",
       "      <td>petrol</td>\n",
       "      <td>volkswagen</td>\n",
       "      <td>No</td>\n",
       "      <td>257.0</td>\n",
       "    </tr>\n",
       "    <tr>\n",
       "      <th>3</th>\n",
       "      <td>4</td>\n",
       "      <td>privat</td>\n",
       "      <td>Angebot</td>\n",
       "      <td>3600.0</td>\n",
       "      <td>small</td>\n",
       "      <td>2008.0</td>\n",
       "      <td>manual</td>\n",
       "      <td>69.0</td>\n",
       "      <td>fabia</td>\n",
       "      <td>90000.0</td>\n",
       "      <td>7.0</td>\n",
       "      <td>diesel</td>\n",
       "      <td>skoda</td>\n",
       "      <td>No</td>\n",
       "      <td>172.0</td>\n",
       "    </tr>\n",
       "    <tr>\n",
       "      <th>4</th>\n",
       "      <td>5</td>\n",
       "      <td>privat</td>\n",
       "      <td>Angebot</td>\n",
       "      <td>650.0</td>\n",
       "      <td>limousine</td>\n",
       "      <td>1995.0</td>\n",
       "      <td>manual</td>\n",
       "      <td>102.0</td>\n",
       "      <td>3er</td>\n",
       "      <td>150000.0</td>\n",
       "      <td>10.0</td>\n",
       "      <td>petrol</td>\n",
       "      <td>bmw</td>\n",
       "      <td>Yes</td>\n",
       "      <td>325.0</td>\n",
       "    </tr>\n",
       "  </tbody>\n",
       "</table>\n",
       "</div>"
      ],
      "text/plain": [
       "   Unnamed: 0  seller offerType    price vehicleType  yearOfRegistration  \\\n",
       "0           1  privat   Angebot  18300.0       coupe              2011.0   \n",
       "1           2  privat   Angebot   9800.0         suv              2004.0   \n",
       "2           3  privat   Angebot   1500.0       small              2001.0   \n",
       "3           4  privat   Angebot   3600.0       small              2008.0   \n",
       "4           5  privat   Angebot    650.0   limousine              1995.0   \n",
       "\n",
       "     gearbox  powerPS  model  kilometer  monthOfRegistration fuelType  \\\n",
       "0     manual    190.0    NaN   125000.0                  5.0   diesel   \n",
       "1  automatic    163.0  grand   125000.0                  8.0   diesel   \n",
       "2     manual     75.0   golf   150000.0                  6.0   petrol   \n",
       "3     manual     69.0  fabia    90000.0                  7.0   diesel   \n",
       "4     manual    102.0    3er   150000.0                 10.0   petrol   \n",
       "\n",
       "        brand notRepairedDamage    Age  \n",
       "0        audi               Yes  138.0  \n",
       "1        jeep      not-declared  219.0  \n",
       "2  volkswagen                No  257.0  \n",
       "3       skoda                No  172.0  \n",
       "4         bmw               Yes  325.0  "
      ]
     },
     "execution_count": 11,
     "metadata": {},
     "output_type": "execute_result"
    }
   ],
   "source": [
    "df.head()"
   ]
  },
  {
   "cell_type": "code",
   "execution_count": 12,
   "metadata": {
    "executionInfo": {
     "elapsed": 361,
     "status": "ok",
     "timestamp": 1668604981276,
     "user": {
      "displayName": "Mukund Balaji",
      "userId": "01932380434259877239"
     },
     "user_tz": -330
    },
    "id": "_lVJmGbQEuT_"
   },
   "outputs": [],
   "source": [
    "df.drop(['Unnamed: 0','yearOfRegistration','monthOfRegistration'],axis=1,inplace=True)"
   ]
  },
  {
   "cell_type": "code",
   "execution_count": 13,
   "metadata": {
    "colab": {
     "base_uri": "https://localhost:8080/",
     "height": 206
    },
    "executionInfo": {
     "elapsed": 3425,
     "status": "ok",
     "timestamp": 1668419132325,
     "user": {
      "displayName": "Mukund Balaji",
      "userId": "01932380434259877239"
     },
     "user_tz": -330
    },
    "id": "cTWNTkO2FBR-",
    "outputId": "2154f674-c315-4f5f-8c48-a81a1aae115a"
   },
   "outputs": [
    {
     "data": {
      "text/html": [
       "<div>\n",
       "<style scoped>\n",
       "    .dataframe tbody tr th:only-of-type {\n",
       "        vertical-align: middle;\n",
       "    }\n",
       "\n",
       "    .dataframe tbody tr th {\n",
       "        vertical-align: top;\n",
       "    }\n",
       "\n",
       "    .dataframe thead th {\n",
       "        text-align: right;\n",
       "    }\n",
       "</style>\n",
       "<table border=\"1\" class=\"dataframe\">\n",
       "  <thead>\n",
       "    <tr style=\"text-align: right;\">\n",
       "      <th></th>\n",
       "      <th>seller</th>\n",
       "      <th>offerType</th>\n",
       "      <th>price</th>\n",
       "      <th>vehicleType</th>\n",
       "      <th>gearbox</th>\n",
       "      <th>powerPS</th>\n",
       "      <th>model</th>\n",
       "      <th>kilometer</th>\n",
       "      <th>fuelType</th>\n",
       "      <th>brand</th>\n",
       "      <th>notRepairedDamage</th>\n",
       "      <th>Age</th>\n",
       "    </tr>\n",
       "  </thead>\n",
       "  <tbody>\n",
       "    <tr>\n",
       "      <th>0</th>\n",
       "      <td>privat</td>\n",
       "      <td>Angebot</td>\n",
       "      <td>18300.0</td>\n",
       "      <td>coupe</td>\n",
       "      <td>manual</td>\n",
       "      <td>190.0</td>\n",
       "      <td>NaN</td>\n",
       "      <td>125000.0</td>\n",
       "      <td>diesel</td>\n",
       "      <td>audi</td>\n",
       "      <td>Yes</td>\n",
       "      <td>138.0</td>\n",
       "    </tr>\n",
       "    <tr>\n",
       "      <th>1</th>\n",
       "      <td>privat</td>\n",
       "      <td>Angebot</td>\n",
       "      <td>9800.0</td>\n",
       "      <td>suv</td>\n",
       "      <td>automatic</td>\n",
       "      <td>163.0</td>\n",
       "      <td>grand</td>\n",
       "      <td>125000.0</td>\n",
       "      <td>diesel</td>\n",
       "      <td>jeep</td>\n",
       "      <td>not-declared</td>\n",
       "      <td>219.0</td>\n",
       "    </tr>\n",
       "    <tr>\n",
       "      <th>2</th>\n",
       "      <td>privat</td>\n",
       "      <td>Angebot</td>\n",
       "      <td>1500.0</td>\n",
       "      <td>small</td>\n",
       "      <td>manual</td>\n",
       "      <td>75.0</td>\n",
       "      <td>golf</td>\n",
       "      <td>150000.0</td>\n",
       "      <td>petrol</td>\n",
       "      <td>volkswagen</td>\n",
       "      <td>No</td>\n",
       "      <td>257.0</td>\n",
       "    </tr>\n",
       "    <tr>\n",
       "      <th>3</th>\n",
       "      <td>privat</td>\n",
       "      <td>Angebot</td>\n",
       "      <td>3600.0</td>\n",
       "      <td>small</td>\n",
       "      <td>manual</td>\n",
       "      <td>69.0</td>\n",
       "      <td>fabia</td>\n",
       "      <td>90000.0</td>\n",
       "      <td>diesel</td>\n",
       "      <td>skoda</td>\n",
       "      <td>No</td>\n",
       "      <td>172.0</td>\n",
       "    </tr>\n",
       "    <tr>\n",
       "      <th>4</th>\n",
       "      <td>privat</td>\n",
       "      <td>Angebot</td>\n",
       "      <td>650.0</td>\n",
       "      <td>limousine</td>\n",
       "      <td>manual</td>\n",
       "      <td>102.0</td>\n",
       "      <td>3er</td>\n",
       "      <td>150000.0</td>\n",
       "      <td>petrol</td>\n",
       "      <td>bmw</td>\n",
       "      <td>Yes</td>\n",
       "      <td>325.0</td>\n",
       "    </tr>\n",
       "  </tbody>\n",
       "</table>\n",
       "</div>"
      ],
      "text/plain": [
       "   seller offerType    price vehicleType    gearbox  powerPS  model  \\\n",
       "0  privat   Angebot  18300.0       coupe     manual    190.0    NaN   \n",
       "1  privat   Angebot   9800.0         suv  automatic    163.0  grand   \n",
       "2  privat   Angebot   1500.0       small     manual     75.0   golf   \n",
       "3  privat   Angebot   3600.0       small     manual     69.0  fabia   \n",
       "4  privat   Angebot    650.0   limousine     manual    102.0    3er   \n",
       "\n",
       "   kilometer fuelType       brand notRepairedDamage    Age  \n",
       "0   125000.0   diesel        audi               Yes  138.0  \n",
       "1   125000.0   diesel        jeep      not-declared  219.0  \n",
       "2   150000.0   petrol  volkswagen                No  257.0  \n",
       "3    90000.0   diesel       skoda                No  172.0  \n",
       "4   150000.0   petrol         bmw               Yes  325.0  "
      ]
     },
     "execution_count": 13,
     "metadata": {},
     "output_type": "execute_result"
    }
   ],
   "source": [
    "df.head()"
   ]
  },
  {
   "cell_type": "code",
   "execution_count": 16,
   "metadata": {
    "executionInfo": {
     "elapsed": 357,
     "status": "ok",
     "timestamp": 1668604986478,
     "user": {
      "displayName": "Mukund Balaji",
      "userId": "01932380434259877239"
     },
     "user_tz": -330
    },
    "id": "qXdml28FGQO9"
   },
   "outputs": [],
   "source": [
    "y=df['price']\n",
    "X=df.drop('price',axis=1)"
   ]
  },
  {
   "cell_type": "code",
   "execution_count": 17,
   "metadata": {
    "colab": {
     "base_uri": "https://localhost:8080/"
    },
    "executionInfo": {
     "elapsed": 603,
     "status": "ok",
     "timestamp": 1668247002942,
     "user": {
      "displayName": "Mukund Balaji",
      "userId": "01932380434259877239"
     },
     "user_tz": -330
    },
    "id": "vwHlkfEMUAik",
    "outputId": "01d2a8e6-b208-4814-d913-2adc1d6415de"
   },
   "outputs": [
    {
     "data": {
      "text/plain": [
       "seller                   0\n",
       "offerType                0\n",
       "vehicleType              0\n",
       "gearbox                  0\n",
       "powerPS                  0\n",
       "model                10387\n",
       "kilometer                0\n",
       "fuelType                 0\n",
       "brand                    0\n",
       "notRepairedDamage        0\n",
       "Age                      0\n",
       "dtype: int64"
      ]
     },
     "execution_count": 17,
     "metadata": {},
     "output_type": "execute_result"
    }
   ],
   "source": [
    "X.isnull().sum()"
   ]
  },
  {
   "cell_type": "code",
   "execution_count": 18,
   "metadata": {
    "executionInfo": {
     "elapsed": 354,
     "status": "ok",
     "timestamp": 1668604990105,
     "user": {
      "displayName": "Mukund Balaji",
      "userId": "01932380434259877239"
     },
     "user_tz": -330
    },
    "id": "RRtSAxrAT49N"
   },
   "outputs": [],
   "source": [
    "X.drop(['model'],axis=1,inplace=True)"
   ]
  },
  {
   "cell_type": "code",
   "execution_count": 19,
   "metadata": {
    "id": "hK9d_7LmUDa6"
   },
   "outputs": [
    {
     "data": {
      "text/plain": [
       "0"
      ]
     },
     "execution_count": 19,
     "metadata": {},
     "output_type": "execute_result"
    }
   ],
   "source": [
    "y.isnull().sum()"
   ]
  },
  {
   "cell_type": "code",
   "execution_count": 20,
   "metadata": {
    "colab": {
     "base_uri": "https://localhost:8080/"
    },
    "executionInfo": {
     "elapsed": 5,
     "status": "ok",
     "timestamp": 1668498182653,
     "user": {
      "displayName": "Mukund Balaji",
      "userId": "01932380434259877239"
     },
     "user_tz": -330
    },
    "id": "onJfcOzSy-MC",
    "outputId": "59a2f306-3fe8-4823-86ce-122007197512"
   },
   "outputs": [],
   "source": [
    "from sklearn.preprocessing import OrdinalEncoder\n",
    "\n",
    "ord_enc = OrdinalEncoder()\n",
    "X['seller'] = ord_enc.fit_transform(X[['seller']])\n",
    "X['offerType'] = ord_enc.fit_transform(X[['offerType']])\n",
    "X['vehicleType'] = ord_enc.fit_transform(X[['vehicleType']])\n",
    "X['notRepairedDamage'] = ord_enc.fit_transform(X[['notRepairedDamage']])\n",
    "X['gearbox'] = ord_enc.fit_transform(X[['gearbox']])\n",
    "X['fuelType'] = ord_enc.fit_transform(X[['fuelType']])\n",
    "X['brand'] = ord_enc.fit_transform(X[['brand']])"
   ]
  },
  {
   "cell_type": "code",
   "execution_count": 21,
   "metadata": {
    "colab": {
     "base_uri": "https://localhost:8080/",
     "height": 206
    },
    "executionInfo": {
     "elapsed": 573,
     "status": "ok",
     "timestamp": 1668498185191,
     "user": {
      "displayName": "Mukund Balaji",
      "userId": "01932380434259877239"
     },
     "user_tz": -330
    },
    "id": "D2dabXgO-Jxa",
    "outputId": "7c46477e-32b8-4949-fc38-8c255b55918f"
   },
   "outputs": [
    {
     "data": {
      "text/html": [
       "<div>\n",
       "<style scoped>\n",
       "    .dataframe tbody tr th:only-of-type {\n",
       "        vertical-align: middle;\n",
       "    }\n",
       "\n",
       "    .dataframe tbody tr th {\n",
       "        vertical-align: top;\n",
       "    }\n",
       "\n",
       "    .dataframe thead th {\n",
       "        text-align: right;\n",
       "    }\n",
       "</style>\n",
       "<table border=\"1\" class=\"dataframe\">\n",
       "  <thead>\n",
       "    <tr style=\"text-align: right;\">\n",
       "      <th></th>\n",
       "      <th>seller</th>\n",
       "      <th>offerType</th>\n",
       "      <th>vehicleType</th>\n",
       "      <th>gearbox</th>\n",
       "      <th>powerPS</th>\n",
       "      <th>kilometer</th>\n",
       "      <th>fuelType</th>\n",
       "      <th>brand</th>\n",
       "      <th>notRepairedDamage</th>\n",
       "      <th>Age</th>\n",
       "    </tr>\n",
       "  </thead>\n",
       "  <tbody>\n",
       "    <tr>\n",
       "      <th>0</th>\n",
       "      <td>1.0</td>\n",
       "      <td>0.0</td>\n",
       "      <td>3.0</td>\n",
       "      <td>1.0</td>\n",
       "      <td>190.0</td>\n",
       "      <td>125000.0</td>\n",
       "      <td>1.0</td>\n",
       "      <td>1.0</td>\n",
       "      <td>1.0</td>\n",
       "      <td>138.0</td>\n",
       "    </tr>\n",
       "    <tr>\n",
       "      <th>1</th>\n",
       "      <td>1.0</td>\n",
       "      <td>0.0</td>\n",
       "      <td>8.0</td>\n",
       "      <td>0.0</td>\n",
       "      <td>163.0</td>\n",
       "      <td>125000.0</td>\n",
       "      <td>1.0</td>\n",
       "      <td>14.0</td>\n",
       "      <td>2.0</td>\n",
       "      <td>219.0</td>\n",
       "    </tr>\n",
       "    <tr>\n",
       "      <th>2</th>\n",
       "      <td>1.0</td>\n",
       "      <td>0.0</td>\n",
       "      <td>7.0</td>\n",
       "      <td>1.0</td>\n",
       "      <td>75.0</td>\n",
       "      <td>150000.0</td>\n",
       "      <td>7.0</td>\n",
       "      <td>38.0</td>\n",
       "      <td>0.0</td>\n",
       "      <td>257.0</td>\n",
       "    </tr>\n",
       "    <tr>\n",
       "      <th>3</th>\n",
       "      <td>1.0</td>\n",
       "      <td>0.0</td>\n",
       "      <td>7.0</td>\n",
       "      <td>1.0</td>\n",
       "      <td>69.0</td>\n",
       "      <td>90000.0</td>\n",
       "      <td>1.0</td>\n",
       "      <td>31.0</td>\n",
       "      <td>0.0</td>\n",
       "      <td>172.0</td>\n",
       "    </tr>\n",
       "    <tr>\n",
       "      <th>4</th>\n",
       "      <td>1.0</td>\n",
       "      <td>0.0</td>\n",
       "      <td>4.0</td>\n",
       "      <td>1.0</td>\n",
       "      <td>102.0</td>\n",
       "      <td>150000.0</td>\n",
       "      <td>7.0</td>\n",
       "      <td>2.0</td>\n",
       "      <td>1.0</td>\n",
       "      <td>325.0</td>\n",
       "    </tr>\n",
       "  </tbody>\n",
       "</table>\n",
       "</div>"
      ],
      "text/plain": [
       "   seller  offerType  vehicleType  gearbox  powerPS  kilometer  fuelType  \\\n",
       "0     1.0        0.0          3.0      1.0    190.0   125000.0       1.0   \n",
       "1     1.0        0.0          8.0      0.0    163.0   125000.0       1.0   \n",
       "2     1.0        0.0          7.0      1.0     75.0   150000.0       7.0   \n",
       "3     1.0        0.0          7.0      1.0     69.0    90000.0       1.0   \n",
       "4     1.0        0.0          4.0      1.0    102.0   150000.0       7.0   \n",
       "\n",
       "   brand  notRepairedDamage    Age  \n",
       "0    1.0                1.0  138.0  \n",
       "1   14.0                2.0  219.0  \n",
       "2   38.0                0.0  257.0  \n",
       "3   31.0                0.0  172.0  \n",
       "4    2.0                1.0  325.0  "
      ]
     },
     "execution_count": 21,
     "metadata": {},
     "output_type": "execute_result"
    }
   ],
   "source": [
    "X.head()"
   ]
  },
  {
   "cell_type": "code",
   "execution_count": 22,
   "metadata": {
    "colab": {
     "base_uri": "https://localhost:8080/"
    },
    "executionInfo": {
     "elapsed": 447,
     "status": "ok",
     "timestamp": 1668279174966,
     "user": {
      "displayName": "Mukund Balaji",
      "userId": "01932380434259877239"
     },
     "user_tz": -330
    },
    "id": "Es80qf_9Eecy",
    "outputId": "dfeb6e22-7554-4213-d862-5f119b1572ca"
   },
   "outputs": [
    {
     "data": {
      "text/plain": [
       "0    18300.0\n",
       "1     9800.0\n",
       "2     1500.0\n",
       "3     3600.0\n",
       "4      650.0\n",
       "Name: price, dtype: float64"
      ]
     },
     "execution_count": 22,
     "metadata": {},
     "output_type": "execute_result"
    }
   ],
   "source": [
    "y.head()"
   ]
  },
  {
   "cell_type": "code",
   "execution_count": 23,
   "metadata": {
    "id": "iarkO1vDW0Vl"
   },
   "outputs": [],
   "source": [
    "from sklearn.model_selection import train_test_split\n",
    "X_train, X_test, y_train, y_test = train_test_split(X, y, test_size=0.05, random_state=44)"
   ]
  },
  {
   "cell_type": "code",
   "execution_count": 24,
   "metadata": {
    "colab": {
     "base_uri": "https://localhost:8080/"
    },
    "executionInfo": {
     "elapsed": 1980,
     "status": "ok",
     "timestamp": 1668487710768,
     "user": {
      "displayName": "Mukund Balaji",
      "userId": "01932380434259877239"
     },
     "user_tz": -330
    },
    "id": "4JvUESferKmY",
    "outputId": "547e467a-adc6-490b-e28f-e4e85145f1f5"
   },
   "outputs": [
    {
     "data": {
      "text/plain": [
       "DecisionTreeRegressor(random_state=44)"
      ]
     },
     "execution_count": 24,
     "metadata": {},
     "output_type": "execute_result"
    }
   ],
   "source": [
    "from sklearn.tree import DecisionTreeRegressor\n",
    "\n",
    "Decision = DecisionTreeRegressor(random_state=44)\n",
    "Decision.fit(X_train,y_train)"
   ]
  },
  {
   "cell_type": "code",
   "execution_count": 35,
   "metadata": {},
   "outputs": [
    {
     "name": "stdout",
     "output_type": "stream",
     "text": [
      "4136.248170145003\n"
     ]
    }
   ],
   "source": [
    "from sklearn.metrics import mean_squared_error\n",
    "\n",
    "y_mine2 = Decision.predict(X_test)\n",
    "err1 = mean_squared_error(y_test,y_mine2)**(0.5)\n",
    "print(mean_squared_error(y_test,y_mine2)**(0.5))"
   ]
  },
  {
   "cell_type": "code",
   "execution_count": null,
   "metadata": {
    "id": "IwcDqdAQnhzd"
   },
   "outputs": [],
   "source": [
    "pickle.dump(Decision, open('/content/drive/MyDrive/Colab Notebooks/DecisionTree.pkl', 'wb'))"
   ]
  },
  {
   "cell_type": "code",
   "execution_count": 34,
   "metadata": {
    "colab": {
     "base_uri": "https://localhost:8080/"
    },
    "executionInfo": {
     "elapsed": 91753,
     "status": "ok",
     "timestamp": 1668488732582,
     "user": {
      "displayName": "Mukund Balaji",
      "userId": "01932380434259877239"
     },
     "user_tz": -330
    },
    "id": "kJB9JZfF2ACc",
    "outputId": "0d59b8e3-39f3-45d5-d287-332d7c5b35d7"
   },
   "outputs": [
    {
     "data": {
      "text/plain": [
       "RandomForestRegressor(random_state=0)"
      ]
     },
     "execution_count": 34,
     "metadata": {},
     "output_type": "execute_result"
    }
   ],
   "source": [
    "from sklearn.ensemble import RandomForestRegressor\n",
    "\n",
    "Forest = RandomForestRegressor(n_estimators = 100, random_state = 0)\n",
    "Forest.fit(X_train,y_train)"
   ]
  },
  {
   "cell_type": "code",
   "execution_count": 36,
   "metadata": {
    "colab": {
     "base_uri": "https://localhost:8080/"
    },
    "executionInfo": {
     "elapsed": 701,
     "status": "ok",
     "timestamp": 1668488755119,
     "user": {
      "displayName": "Mukund Balaji",
      "userId": "01932380434259877239"
     },
     "user_tz": -330
    },
    "id": "8n9YwwyNkbra",
    "outputId": "f1200c8f-9220-4908-afcc-4c23a72c5b5d"
   },
   "outputs": [
    {
     "name": "stdout",
     "output_type": "stream",
     "text": [
      "3167.32595196744\n"
     ]
    }
   ],
   "source": [
    "y_mine = Forest.predict(X_test)\n",
    "err2 = mean_squared_error(y_test,y_mine)**(0.5)\n",
    "print(mean_squared_error(y_test,y_mine)**(0.5))"
   ]
  },
  {
   "cell_type": "code",
   "execution_count": null,
   "metadata": {
    "id": "OhRe84vITyVl"
   },
   "outputs": [],
   "source": [
    "pickle.dump(Forest, open('/content/drive/MyDrive/Colab Notebooks/RandomForest1.pkl', 'wb'))"
   ]
  },
  {
   "cell_type": "code",
   "execution_count": 37,
   "metadata": {
    "colab": {
     "base_uri": "https://localhost:8080/"
    },
    "executionInfo": {
     "elapsed": 93963,
     "status": "ok",
     "timestamp": 1668488358646,
     "user": {
      "displayName": "Mukund Balaji",
      "userId": "01932380434259877239"
     },
     "user_tz": -330
    },
    "id": "DLte-OE-Q7ub",
    "outputId": "f027870e-41db-4dbd-9702-786d7455e33a"
   },
   "outputs": [
    {
     "data": {
      "text/plain": [
       "GradientBoostingRegressor(max_depth=15, random_state=0)"
      ]
     },
     "execution_count": 37,
     "metadata": {},
     "output_type": "execute_result"
    }
   ],
   "source": [
    "from sklearn.ensemble import GradientBoostingRegressor\n",
    "\n",
    "xg_reg = GradientBoostingRegressor(learning_rate=0.1,max_depth=15,random_state=0)\n",
    "xg_reg.fit(X_train, y_train)"
   ]
  },
  {
   "cell_type": "code",
   "execution_count": null,
   "metadata": {
    "id": "Z2kTx6k7T2zV"
   },
   "outputs": [],
   "source": [
    "pickle.dump(xg_reg, open('/content/drive/MyDrive/Colab Notebooks/XGBoost.pkl', 'wb'))"
   ]
  },
  {
   "cell_type": "code",
   "execution_count": 38,
   "metadata": {
    "colab": {
     "base_uri": "https://localhost:8080/"
    },
    "executionInfo": {
     "elapsed": 9,
     "status": "ok",
     "timestamp": 1668489860376,
     "user": {
      "displayName": "Mukund Balaji",
      "userId": "01932380434259877239"
     },
     "user_tz": -330
    },
    "id": "7YUAPadnQUxr",
    "outputId": "4d62b903-5de6-43e5-ffb8-141d748b155c"
   },
   "outputs": [
    {
     "name": "stdout",
     "output_type": "stream",
     "text": [
      "3333.4881251787833\n"
     ]
    }
   ],
   "source": [
    "y_mine1 = xg_reg.predict(X_test)\n",
    "err3=mean_squared_error(y_test,y_mine1)**(0.5)\n",
    "print(mean_squared_error(y_test,y_mine1)**(0.5))"
   ]
  },
  {
   "cell_type": "code",
   "execution_count": 39,
   "metadata": {},
   "outputs": [
    {
     "name": "stdout",
     "output_type": "stream",
     "text": [
      "3545.6874157637417\n"
     ]
    }
   ],
   "source": [
    "toterr=(err1+err2+err3)/3\n",
    "print(toterr)"
   ]
  }
 ],
 "metadata": {
  "colab": {
   "authorship_tag": "ABX9TyMlzhmqpKanKzsgCT6lBaCk",
   "provenance": []
  },
  "kernelspec": {
   "display_name": "Python 3 (ipykernel)",
   "language": "python",
   "name": "python3"
  },
  "language_info": {
   "codemirror_mode": {
    "name": "ipython",
    "version": 3
   },
   "file_extension": ".py",
   "mimetype": "text/x-python",
   "name": "python",
   "nbconvert_exporter": "python",
   "pygments_lexer": "ipython3",
   "version": "3.9.13"
  }
 },
 "nbformat": 4,
 "nbformat_minor": 1
}
